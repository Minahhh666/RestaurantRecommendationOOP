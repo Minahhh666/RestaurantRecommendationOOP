{
 "cells": [
  {
   "cell_type": "markdown",
   "id": "186f9f6b",
   "metadata": {},
   "source": [
    "<h1>Exercise One</h1>\n",
    "if statements are used to limit the range from -100 to 100."
   ]
  },
  {
   "cell_type": "code",
   "execution_count": 1,
   "id": "0dbbda8b",
   "metadata": {},
   "outputs": [],
   "source": [
    "class Location:\n",
    "    def __init__(self,x,y):\n",
    "        if -100<= x <=100 and -100<= y <=100:\n",
    "            self.x = x\n",
    "            self.y = y\n",
    "        else:\n",
    "            print (\"invalid location\")\n",
    "            \n",
    "    def getLoc(self):\n",
    "        return self.x,self.y\n",
    "    \n",
    "    def setLoc(self,x,y):\n",
    "        self.x = x\n",
    "        self.y = y\n",
    "        \n",
    "    def __repr__(self):\n",
    "        show = \"X: \" + str(self.x) + \", \" + \"Y :\" + str(self.y)\n",
    "        return show\n",
    "\n",
    "# it counts the sum of abosulte difference of cordinate x and y from reference location to destination  \n",
    "    def manhattan_dist(self,des):\n",
    "        ans = abs(des.x - self.x) + abs(des.y - self.y)\n",
    "        dis = \"Distance of\" + \"from \" + \"is : \" + str(ans)\n",
    "        return ans\n",
    "        "
   ]
  },
  {
   "cell_type": "code",
   "execution_count": 2,
   "id": "b0ab7319",
   "metadata": {},
   "outputs": [],
   "source": [
    "loc = Location(10,15)"
   ]
  },
  {
   "cell_type": "markdown",
   "id": "d3804abc",
   "metadata": {},
   "source": [
    "<h2>Task 1</h2>\n",
    "get and set methods are defined aboved as <b>getLoc</b> and <b>setLoc</b> respectively. The following result is shown below:"
   ]
  },
  {
   "cell_type": "code",
   "execution_count": 3,
   "id": "cab25390",
   "metadata": {},
   "outputs": [
    {
     "name": "stdout",
     "output_type": "stream",
     "text": [
      "(8, 7)\n",
      "(10, 15)\n",
      "invalid location\n"
     ]
    }
   ],
   "source": [
    "loc = Location(8,7)\n",
    "print(loc.getLoc())\n",
    "loc.setLoc(10,15)\n",
    "print(loc.getLoc())\n",
    "loc_error = Location(101,-101)"
   ]
  },
  {
   "cell_type": "markdown",
   "id": "913a5f2c",
   "metadata": {},
   "source": [
    "<h2>Task 2</h2>\n",
    "the magic method <b>__repr__</b> is used and the result is shown below:"
   ]
  },
  {
   "cell_type": "code",
   "execution_count": 4,
   "id": "2e719ebc",
   "metadata": {},
   "outputs": [
    {
     "name": "stdout",
     "output_type": "stream",
     "text": [
      "X: 10, Y :15\n"
     ]
    }
   ],
   "source": [
    "print(loc)"
   ]
  },
  {
   "cell_type": "markdown",
   "id": "367d46e2",
   "metadata": {},
   "source": [
    "<h2>Task 3</h2>\n",
    "the <b>manhattan_dist</b> is defined by adding the abosulte difference of cordinate x and y from reference location to target location. The result is shown below:"
   ]
  },
  {
   "cell_type": "code",
   "execution_count": 5,
   "id": "b78f2d33",
   "metadata": {},
   "outputs": [
    {
     "name": "stdout",
     "output_type": "stream",
     "text": [
      "25\n"
     ]
    }
   ],
   "source": [
    "ref = Location (0,0)\n",
    "A = Location (10,15)\n",
    "print(ref.manhattan_dist(A))"
   ]
  },
  {
   "cell_type": "markdown",
   "id": "7bde9cd5",
   "metadata": {},
   "source": [
    "<h2>Task 4</h2>\n",
    "The <b>random</b> module is used here to generate 10 locations. A name is assigned to each location and the manhattan_dist for each is calculated."
   ]
  },
  {
   "cell_type": "code",
   "execution_count": 6,
   "id": "759c1b29",
   "metadata": {},
   "outputs": [
    {
     "name": "stdout",
     "output_type": "stream",
     "text": [
      "Distance of Ref from A is : 117\n",
      "Distance of Ref from B is : 92\n",
      "Distance of Ref from C is : 60\n",
      "Distance of Ref from D is : 121\n",
      "Distance of Ref from E is : 108\n",
      "Distance of Ref from F is : 95\n",
      "Distance of Ref from G is : 125\n",
      "Distance of Ref from H is : 143\n",
      "Distance of Ref from I is : 58\n",
      "Distance of Ref from J is : 21\n"
     ]
    }
   ],
   "source": [
    "import random\n",
    "\n",
    "# an empty list is created to put all the locations generated into\n",
    "locs = []\n",
    "for i in range(10):\n",
    "    i = Location (random.randint(-100,100),random.randint(-100,100))\n",
    "    locs.append(i)\n",
    "    \n",
    "# for loop is used to append a name to each location while calculating its manhattan_dist    \n",
    "for j in locs:\n",
    "    name =\"ABCDEFGHIJ\"\n",
    "    print(\"Distance of Ref from\", name[locs.index(j)], \"is :\", ref.manhattan_dist(j))"
   ]
  },
  {
   "cell_type": "markdown",
   "id": "e605f4b1",
   "metadata": {},
   "source": [
    "<h1>Exercise Two</h1>\n",
    "if statements are used to set the limit for opening time and closing time."
   ]
  },
  {
   "cell_type": "code",
   "execution_count": 7,
   "id": "0a3d88cb",
   "metadata": {},
   "outputs": [],
   "source": [
    "class Restaurant(Location):\n",
    "    def __init__(self,name,loc,optime,cltime):\n",
    "        if 0 <= optime <= 24 and 0 <= cltime <= 24:\n",
    "            x,y = loc\n",
    "            Location.__init__(self,x,y)\n",
    "            self.name = name\n",
    "            self.optime = optime\n",
    "            self.cltime = cltime\n",
    "        else:\n",
    "            print (\"invalid input\")\n",
    "            \n",
    "    def __repr__(self):\n",
    "        show = \"Restaurant: \" + self.name + \", in \" + Location.__repr__(self)\\\n",
    "        + \", Operating hours:\" + str(self.optime) + \"-\" + str(self.cltime)\n",
    "        return show\n",
    "    \n",
    "    def get_name(self):\n",
    "        return self.name\n",
    "    \n",
    "    def get_operating_hours(self):\n",
    "        return (self.optime, self.cltime)\n",
    "    \n",
    "    def change_operating_hours(self,o,c):\n",
    "        self.optime = o\n",
    "        self.cltime = c\n",
    "        \n",
    "    def getLocation(self):\n",
    "        return Location.__repr__(self)\n",
    "    \n",
    "    def is_open(self,curr):\n",
    "        if self.optime <= curr <= self.cltime:\n",
    "            return True\n",
    "        else:\n",
    "            return False        "
   ]
  },
  {
   "cell_type": "markdown",
   "id": "69f551d2",
   "metadata": {},
   "source": [
    "<h2>Task 1</h2>\n",
    "the magic method <b>__repr__</b> is used and the result is shown below:"
   ]
  },
  {
   "cell_type": "code",
   "execution_count": 8,
   "id": "9f6a7782",
   "metadata": {},
   "outputs": [
    {
     "name": "stdout",
     "output_type": "stream",
     "text": [
      "invalid input\n",
      "Restaurant: Rattatouille, in X: 5, Y :6, Operating hours:9-21\n",
      "Restaurant: Chick-fil-A, in X: 25, Y :36, Operating hours:9-22\n"
     ]
    }
   ],
   "source": [
    "rat = Restaurant (\"Rattatouille\",(5,6),9,21)\n",
    "chi = Restaurant (\"Chick-fil-A\",(25,36),9,22)\n",
    "rat_error = Restaurant (\"Error\",(5,6),-1,25)\n",
    "print (rat)\n",
    "print (chi)"
   ]
  },
  {
   "cell_type": "markdown",
   "id": "70af14e8",
   "metadata": {},
   "source": [
    "<h2>Task 2</h2>\n",
    "The results of following methods are shown below:"
   ]
  },
  {
   "cell_type": "code",
   "execution_count": 9,
   "id": "c9e8f12f",
   "metadata": {},
   "outputs": [
    {
     "name": "stdout",
     "output_type": "stream",
     "text": [
      "Rattatouille\n",
      "(9, 21)\n",
      "(15, 23)\n",
      "X: 5, Y :6\n"
     ]
    }
   ],
   "source": [
    "print(rat.get_name())\n",
    "print(rat.get_operating_hours())\n",
    "rat.change_operating_hours(15,23)\n",
    "print(rat.get_operating_hours())\n",
    "print(rat.getLocation())"
   ]
  },
  {
   "cell_type": "markdown",
   "id": "f8260545",
   "metadata": {},
   "source": [
    "<h2>Task 3</h2>\n",
    "The result of the method is shown below:"
   ]
  },
  {
   "cell_type": "code",
   "execution_count": 10,
   "id": "89e43ef0",
   "metadata": {},
   "outputs": [
    {
     "name": "stdout",
     "output_type": "stream",
     "text": [
      "False\n",
      "True\n"
     ]
    }
   ],
   "source": [
    "print(rat.is_open(6))\n",
    "print(rat.is_open(16))"
   ]
  },
  {
   "cell_type": "markdown",
   "id": "e83f6ee4",
   "metadata": {},
   "source": [
    "<h2>Task 4</h2>\n",
    "A list containing 4 restaurants is created and a for loop is used to print the name of the restaurants that is opened on the given time. The result is shown below:"
   ]
  },
  {
   "cell_type": "code",
   "execution_count": 11,
   "id": "5c3ccbc8",
   "metadata": {},
   "outputs": [
    {
     "name": "stdout",
     "output_type": "stream",
     "text": [
      "YoiRamen\n",
      "BubbleWaffleFactory\n"
     ]
    }
   ],
   "source": [
    "res1 = Restaurant (\"YoiRamen\",(24,11),12,22)\n",
    "res2 = Restaurant (\"StreetFoodFactory\",(-30,18),14,24)\n",
    "res3 = Restaurant (\"BubbleWaffleFactory\",(42,77),12,21)\n",
    "res4 = Restaurant (\"ThaiBasil\",(50,11),16,23)\n",
    "reslist = [res1,res2,res3,res4]\n",
    "for res in reslist:\n",
    "    if res.is_open(12):\n",
    "        print(res.get_name())"
   ]
  },
  {
   "cell_type": "markdown",
   "id": "8fb1ab7a",
   "metadata": {},
   "source": [
    "<h1>Exercise Three</h1>\n",
    "a list <b>restaurants</b> and a dictionary <b>ratings</b> is created as class variables. a location object <b>user_loc</b> is created in the constructor.\n",
    "the method <b>reload_location</b> is created using method <b>setLoc</b> from class Location."
   ]
  },
  {
   "cell_type": "code",
   "execution_count": 12,
   "id": "67298fb0",
   "metadata": {},
   "outputs": [],
   "source": [
    "class Where2Eat_tool(Restaurant):\n",
    "    restaurants = []\n",
    "    ratings = dict()\n",
    "    \n",
    "    def __init__(self,x,y):\n",
    "        self.user_loc = Location(x,y)\n",
    "    \n",
    "# method \"setLoc\" from class Location is used      \n",
    "    def reload_location(self,x,y):\n",
    "        self.user_loc.setLoc(x,y)\n",
    "        print (\"Location Changed\")\n",
    "\n",
    "#every restaurant object added is appended to the class list  \n",
    "# the restaurant object together with its rating is added to the class dictionary \n",
    "    def add_restaurant(self,new_rest,rating):\n",
    "        self.new_rest = new_rest\n",
    "        self.rating = rating\n",
    "        Where2Eat_tool.restaurants.append(self.new_rest)\n",
    "        Where2Eat_tool.ratings[self.new_rest] = self.rating\n",
    "\n",
    "# a for loop is used to loop through the length of the list of restaurants. \n",
    "# In each loop, the restaurant object is added to the class list as well as the class dictionary with the corresponding rating \n",
    "    def add_many_restaurants(self,rest_list,rating_list):\n",
    "        for i in range (len(rest_list)):\n",
    "            Where2Eat_tool.restaurants.append(rest_list[i])\n",
    "            Where2Eat_tool.ratings[rest_list[i]] = rating_list[i]\n",
    "\n",
    "# this method will loop through the class dictionary and return all the items\n",
    "    def info(self):\n",
    "        output =\"\"\n",
    "        for res,rat in Where2Eat_tool.ratings.items():\n",
    "            output += str(res) +\" Rating: \"+ str(rat) +\"/10\\n\"\n",
    "        return output\n",
    "\n",
    "#first, a filter function is used to return a list of restaurants that are opening at the given time\n",
    "# if there are no restaurants opening, the list will be empty and a message is printed\n",
    "# Then, the list is sorted by ratings in descending order by using sort function\n",
    "# 2 empty strings are set, one for the restaurant chosen and one for its corresponding disntance from the user\n",
    "# a for loop is used to loop through the sorted list. the first restaurant and its distance will be saved to the variables.\n",
    "# then, if any restaurants after has a short distance, its information is saved to the variables.\n",
    "# return the variables as the result\n",
    "    def where_to_eat(self,curr_time):\n",
    "        open_list = list(filter(lambda s:s.is_open(curr_time), Where2Eat_tool.restaurants))\n",
    "        if open_list == []:\n",
    "            print(\"There is no restaurants open at this time...\")\n",
    "            return None, None, 0\n",
    "        open_list.sort(key= lambda s: Where2Eat_tool.ratings[s], reverse=True)\n",
    "        theres = \"\"\n",
    "        dis = \"\"\n",
    "        for ress in open_list:     \n",
    "            if dis == \"\":\n",
    "                theres = ress\n",
    "                dis = self.user_loc.manhattan_dist(ress)\n",
    "            elif self.user_loc.manhattan_dist(ress) < dis:\n",
    "                theres = ress\n",
    "                dis = self.user_loc.manhattan_dist(ress)\n",
    "        return str(theres), str(Where2Eat_tool.ratings[theres])+\"/10\", str(dis)"
   ]
  },
  {
   "cell_type": "markdown",
   "id": "347040dc",
   "metadata": {},
   "source": [
    "<h2>Task 1</h2>\n",
    "The result is shown below:"
   ]
  },
  {
   "cell_type": "code",
   "execution_count": 13,
   "id": "43a93bb1",
   "metadata": {},
   "outputs": [],
   "source": [
    "App = Where2Eat_tool(0,0)"
   ]
  },
  {
   "cell_type": "markdown",
   "id": "da25f29b",
   "metadata": {},
   "source": [
    "<h2>Task 2</h2>\n",
    "the result of methods <b>add_restaurant(new_rest,rating)</b>, <b>add_many_restaurants(rest_list,rating_list) </b> and <b>info</b> are shown below:"
   ]
  },
  {
   "cell_type": "code",
   "execution_count": 14,
   "id": "3c8d8850",
   "metadata": {},
   "outputs": [
    {
     "name": "stdout",
     "output_type": "stream",
     "text": [
      "Restaurant: Rattatouille, in X: 5, Y :6, Operating hours:15-23 Rating: 4/10\n",
      "Restaurant: Chick-fil-A, in X: 25, Y :36, Operating hours:9-22 Rating: 9/10\n",
      "Restaurant: YoiRamen, in X: 24, Y :11, Operating hours:12-22 Rating: 7/10\n",
      "Restaurant: StreetFoodFactory, in X: -30, Y :18, Operating hours:14-24 Rating: 8/10\n",
      "Restaurant: BubbleWaffleFactory, in X: 42, Y :77, Operating hours:12-21 Rating: 9/10\n",
      "Restaurant: ThaiBasil, in X: 50, Y :11, Operating hours:16-23 Rating: 10/10\n",
      "\n"
     ]
    }
   ],
   "source": [
    "App.add_restaurant(rat,4)\n",
    "App.add_restaurant(chi,9)\n",
    "rat_list = [7,8,9,10]\n",
    "App.add_many_restaurants(reslist,rat_list) #reslist is a list of restaurants defined above in Exercise two Task 4\n",
    "print(App.info())"
   ]
  },
  {
   "cell_type": "markdown",
   "id": "7f9ad3f8",
   "metadata": {},
   "source": [
    "<h2>Task 3</h2>\n",
    "The result is shown above:"
   ]
  },
  {
   "cell_type": "code",
   "execution_count": 15,
   "id": "490a8ef3",
   "metadata": {},
   "outputs": [
    {
     "name": "stdout",
     "output_type": "stream",
     "text": [
      "There is no restaurants open at this time...\n",
      "Best option is the None Rating: None Distance : 0\n",
      "Best option is the Restaurant: Rattatouille, in X: 5, Y :6, Operating hours:15-23 Rating: 4/10 Distance : 11\n",
      "Location Changed\n",
      "Best option is the Restaurant: ThaiBasil, in X: 50, Y :11, Operating hours:16-23 Rating: 10/10 Distance : 39\n"
     ]
    }
   ],
   "source": [
    "# The App location is (0,0) as set above\n",
    "choice, rating, dist = App.where_to_eat (8)\n",
    "print(\"Best option is the\", choice ,\"Rating:\", rating ,\"Distance :\", dist)\n",
    "choice, rating, dist = App.where_to_eat (22)\n",
    "print(\"Best option is the\", choice ,\"Rating:\", rating ,\"Distance :\", dist)\n",
    "App.reload_location (50, 50)\n",
    "choice, rating, dist = App.where_to_eat (22)\n",
    "print(\"Best option is the\", choice ,\"Rating:\", rating ,\"Distance :\", dist)"
   ]
  },
  {
   "cell_type": "code",
   "execution_count": null,
   "id": "f28088cc",
   "metadata": {},
   "outputs": [],
   "source": []
  }
 ],
 "metadata": {
  "kernelspec": {
   "display_name": "Python 3 (ipykernel)",
   "language": "python",
   "name": "python3"
  },
  "language_info": {
   "codemirror_mode": {
    "name": "ipython",
    "version": 3
   },
   "file_extension": ".py",
   "mimetype": "text/x-python",
   "name": "python",
   "nbconvert_exporter": "python",
   "pygments_lexer": "ipython3",
   "version": "3.9.13"
  }
 },
 "nbformat": 4,
 "nbformat_minor": 5
}
